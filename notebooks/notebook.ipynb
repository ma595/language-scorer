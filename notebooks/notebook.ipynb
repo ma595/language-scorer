{
 "cells": [
  {
   "cell_type": "markdown",
   "metadata": {},
   "source": [
    "We are developing an automated language scorer which will be able to able to predict a score by analyzing text essays content.\n",
    "\n",
    "Given a dataset of essays and their corresponding scores on the scale of 1-5, we are going to fine-tune a small Transformer model using PyTorch that can accurately predict the score of an essay.\n",
    " \n",
    "### Environment\n",
    "- For this coding test a 2-core CPU and 16GB of RAM is available\n",
    "- Git is available to version files, any part of the code given can be modified\n",
    "- Any other external tool can be used for this test\n",
    "- Expect to take 2 to 3 hours to complete these exercise\n",
    "- There is a 6 hours time limit for your submission\n",
    "\n",
    "### Files and folders\n",
    "- `train.csv`, the training dataset\n",
    "- `test.csv`, the testing dataset\n",
    "- `bert-tiny`, the pre-trained model to fine-tune and its related files\n",
    "- `sample-submissions.csv`, an example of how your `submissions.csv` file should be formatted\n",
    " \n",
    "### Deliverables\n",
    "\n",
    "1. 'submissions.csv': For each record in the test set `test.csv`, predict the value of the 'score' variable. Submit a CSV file with a header row and one row per test entry. The file `submissions.csv` should have exactly 2 columns:\n",
    "content and score (1 -5).\n",
    "\n",
    "> The model will be tested on a different set of essays from the training set.\n",
    "\n",
    "2. Well commented Jupyter notebook including cell outputs and answers to Questions 1-3.\n",
    "\n",
    "> Annotate the notebook with code comments and markdowns. A person should be able to read the notebook and understand the steps taken as well as the reasoning behind them.\n"
   ]
  },
  {
   "cell_type": "code",
   "execution_count": 21,
   "metadata": {},
   "outputs": [
    {
     "name": "stdout",
     "output_type": "stream",
     "text": [
      "--2025-03-28 15:22:27--  https://hr-projects-assets-prod.s3.amazonaws.com/6cj60qp1cd9/97ebab92d945fd74ec334ec7d7aecac0/pytorch_model.bin\n",
      "Resolving hr-projects-assets-prod.s3.amazonaws.com (hr-projects-assets-prod.s3.amazonaws.com)... 52.217.234.217, 52.216.54.193, 3.5.28.69, ...\n",
      "Connecting to hr-projects-assets-prod.s3.amazonaws.com (hr-projects-assets-prod.s3.amazonaws.com)|52.217.234.217|:443... connected.\n",
      "HTTP request sent, awaiting response... 200 OK\n",
      "Length: 17756393 (17M) [binary/octet-stream]\n",
      "Saving to: ‘bert-tiny/pytorch_model.bin’\n",
      "\n",
      "pytorch_model.bin   100%[===================>]  16.93M  3.30MB/s    in 5.2s    \n",
      "\n",
      "2025-03-28 15:22:36 (3.29 MB/s) - ‘bert-tiny/pytorch_model.bin’ saved [17756393/17756393]\n",
      "\n"
     ]
    }
   ],
   "source": [
    "# Install libraries\n",
    "# ! pip3 install transformers==4.26.0 torch pandas datasets\n",
    "\n",
    "# Download base model\n",
    "! wget -P bert-tiny/ https://hr-projects-assets-prod.s3.amazonaws.com/6cj60qp1cd9/97ebab92d945fd74ec334ec7d7aecac0/pytorch_model.bin\n",
    "\n",
    "# Ignore model folder in git\n",
    "! echo \"bert-tiny/\" >> .gitignore\n",
    "\n",
    "# To install packages that are not installed by default, uncomment the next line\n",
    "# and replace <package list> with a list of needed packages.\n",
    "\n",
    "#! pip3 install <package list>"
   ]
  },
  {
   "cell_type": "markdown",
   "metadata": {},
   "source": [
    "# Get Bert tokenizer"
   ]
  },
  {
   "cell_type": "markdown",
   "metadata": {},
   "source": [
    "We need to work with numerical data. We will use the Bert tokenizer to convert the text data into numerical data.\n",
    "The word tokenizer splits text into individual words. The Bert tokenizer splits text into subwords. \n",
    "    \n",
    "- This is useful because Bert has a fixed vocabulary size. If a word is not in the vocabulary, it is split into subwords that are in the vocabulary.\n",
    "- The data contains @CAPS1 @PERSON - these are special tokens that Bert uses to represent capitalization and named entities. We will need to remove these tokens before tokenizing the data. \n",
    "    - Not sure if the data I was given contains these tokens?  These are used for privacy, consistency and to reduce the vocabulary size. Also avoids overfitting to surface level-lexical cues."
   ]
  },
  {
   "cell_type": "code",
   "execution_count": null,
   "metadata": {},
   "outputs": [],
   "source": []
  },
  {
   "cell_type": "code",
   "execution_count": 115,
   "metadata": {},
   "outputs": [],
   "source": [
    "from transformers import BertTokenizer, AutoTokenizer\n",
    "\n",
    "# download bert tokenizer and store it in the bert-tiny folder\n",
    "# BertTokenizer.from_pretrained(\"google/bert_uncased_L-2_H-128_A-2\").save_pretrained(\n",
    "#     \"bert-tiny\"\n",
    "# )\n",
    "# tokeniser = BertTokenizer.from_pretrained(\"bert-tiny\", local_files_only=True)\n",
    "\n",
    "tokenizer = AutoTokenizer.from_pretrained(\n",
    "    \"bert-base-uncased\"\n",
    ")  # or the one you're actually using"
   ]
  },
  {
   "cell_type": "code",
   "execution_count": 1,
   "metadata": {},
   "outputs": [
    {
     "name": "stderr",
     "output_type": "stream",
     "text": [
      "/Users/matt/work/fine-tuning/venv-11/lib/python3.11/site-packages/tqdm/auto.py:21: TqdmWarning: IProgress not found. Please update jupyter and ipywidgets. See https://ipywidgets.readthedocs.io/en/stable/user_install.html\n",
      "  from .autonotebook import tqdm as notebook_tqdm\n"
     ]
    }
   ],
   "source": [
    "# Load libraries, add more as required\n",
    "import pandas as pd\n",
    "from transformers import BertTokenizer, BertForSequenceClassification"
   ]
  },
  {
   "cell_type": "code",
   "execution_count": 3,
   "metadata": {},
   "outputs": [
    {
     "name": "stdout",
     "output_type": "stream",
     "text": [
      "Score Distribution:\n",
      " score\n",
      "1     15\n",
      "2    154\n",
      "3    702\n",
      "4    845\n",
      "Name: count, dtype: int64\n"
     ]
    },
    {
     "data": {
      "text/plain": [
       "(array([0, 1, 2, 3]),\n",
       " [Text(0, 0, '1'), Text(1, 0, '2'), Text(2, 0, '3'), Text(3, 0, '4')])"
      ]
     },
     "execution_count": 3,
     "metadata": {},
     "output_type": "execute_result"
    },
    {
     "data": {
      "image/png": "[encoded data removed]",
      "text/plain": [
       "<Figure size 800x500 with 1 Axes>"
      ]
     },
     "metadata": {},
     "output_type": "display_data"
    }
   ],
   "source": [
    "import matplotlib.pyplot as plt\n",
    "\n",
    "train_df = pd.read_csv(\"data/cleaned_dataset.csv\")\n",
    "score_counts = train_df[\"score\"].value_counts().sort_index()\n",
    "\n",
    "print(\"Score Distribution:\\n\", score_counts)\n",
    "\n",
    "plt.figure(figsize=(8, 5))\n",
    "score_counts.plot(kind=\"bar\")\n",
    "plt.xlabel(\"Score\")\n",
    "plt.ylabel(\"Count\")\n",
    "plt.title(\"Distribution of Essay Scores\")\n",
    "plt.xticks()"
   ]
  },
  {
   "cell_type": "markdown",
   "metadata": {},
   "source": [
    "# Explore the data"
   ]
  },
  {
   "cell_type": "code",
   "execution_count": 5,
   "metadata": {},
   "outputs": [
    {
     "data": {
      "text/html": [
       "<div>\n",
       "<style scoped>\n",
       "    .dataframe tbody tr th:only-of-type {\n",
       "        vertical-align: middle;\n",
       "    }\n",
       "\n",
       "    .dataframe tbody tr th {\n",
       "        vertical-align: top;\n",
       "    }\n",
       "\n",
       "    .dataframe thead th {\n",
       "        text-align: right;\n",
       "    }\n",
       "</style>\n",
       "<table border=\"1\" class=\"dataframe\">\n",
       "  <thead>\n",
       "    <tr style=\"text-align: right;\">\n",
       "      <th></th>\n",
       "      <th>content</th>\n",
       "      <th>score</th>\n",
       "    </tr>\n",
       "  </thead>\n",
       "  <tbody>\n",
       "    <tr>\n",
       "      <th>0</th>\n",
       "      <td>Certain materials being removed from libraries...</td>\n",
       "      <td>4</td>\n",
       "    </tr>\n",
       "    <tr>\n",
       "      <th>1</th>\n",
       "      <td>Write a persuasive essay to a newspaper reflec...</td>\n",
       "      <td>1</td>\n",
       "    </tr>\n",
       "    <tr>\n",
       "      <th>2</th>\n",
       "      <td>Do you think that libraries should remove cert...</td>\n",
       "      <td>3</td>\n",
       "    </tr>\n",
       "    <tr>\n",
       "      <th>3</th>\n",
       "      <td>In @DATE1's world, there are many things found...</td>\n",
       "      <td>4</td>\n",
       "    </tr>\n",
       "    <tr>\n",
       "      <th>4</th>\n",
       "      <td>In life you have the 'offensive things'. The l...</td>\n",
       "      <td>4</td>\n",
       "    </tr>\n",
       "    <tr>\n",
       "      <th>...</th>\n",
       "      <td>...</td>\n",
       "      <td>...</td>\n",
       "    </tr>\n",
       "    <tr>\n",
       "      <th>1711</th>\n",
       "      <td>Libraries have a variety of material from book...</td>\n",
       "      <td>3</td>\n",
       "    </tr>\n",
       "    <tr>\n",
       "      <th>1712</th>\n",
       "      <td>I do not think that materials, such as books, ...</td>\n",
       "      <td>3</td>\n",
       "    </tr>\n",
       "    <tr>\n",
       "      <th>1713</th>\n",
       "      <td>Yes we should keep the books,music,movies,an m...</td>\n",
       "      <td>2</td>\n",
       "    </tr>\n",
       "    <tr>\n",
       "      <th>1714</th>\n",
       "      <td>I do believe that  book, magazines, music, mov...</td>\n",
       "      <td>4</td>\n",
       "    </tr>\n",
       "    <tr>\n",
       "      <th>1715</th>\n",
       "      <td>Different Then Everyone Else     @CAPS1 do peo...</td>\n",
       "      <td>2</td>\n",
       "    </tr>\n",
       "  </tbody>\n",
       "</table>\n",
       "<p>1716 rows × 2 columns</p>\n",
       "</div>"
      ],
      "text/plain": [
       "                                                content  score\n",
       "0     Certain materials being removed from libraries...      4\n",
       "1     Write a persuasive essay to a newspaper reflec...      1\n",
       "2     Do you think that libraries should remove cert...      3\n",
       "3     In @DATE1's world, there are many things found...      4\n",
       "4     In life you have the 'offensive things'. The l...      4\n",
       "...                                                 ...    ...\n",
       "1711  Libraries have a variety of material from book...      3\n",
       "1712  I do not think that materials, such as books, ...      3\n",
       "1713  Yes we should keep the books,music,movies,an m...      2\n",
       "1714  I do believe that  book, magazines, music, mov...      4\n",
       "1715  Different Then Everyone Else     @CAPS1 do peo...      2\n",
       "\n",
       "[1716 rows x 2 columns]"
      ]
     },
     "execution_count": 5,
     "metadata": {},
     "output_type": "execute_result"
    }
   ],
   "source": [
    "# train_df.iloc[0]\n",
    "# drop index\n",
    "# train_df = train_df.drop(columns=[\"Unnamed: 0\"])\n",
    "train_df\n",
    "# keep only content and score\n",
    "train_df = train_df[[\"content\", \"score\"]]\n",
    "train_df"
   ]
  },
  {
   "cell_type": "code",
   "execution_count": 4,
   "metadata": {},
   "outputs": [
    {
     "data": {
      "image/png": "[encoded data removed]",
      "text/plain": [
       "<Figure size 800x500 with 1 Axes>"
      ]
     },
     "metadata": {},
     "output_type": "display_data"
    }
   ],
   "source": [
    "# distribution of essay lengths\n",
    "train_df[\"text_length\"] = train_df[\"content\"].apply(lambda x: len(str(x).split()))\n",
    "plt.figure(figsize=(8, 5))\n",
    "train_df[\"text_length\"].hist(bins=30)\n",
    "plt.show()"
   ]
  },
  {
   "cell_type": "code",
   "execution_count": 114,
   "metadata": {},
   "outputs": [
    {
     "name": "stderr",
     "output_type": "stream",
     "text": [
      "Token indices sequence length is longer than the specified maximum sequence length for this model (578 > 512). Running this sequence through the model will result in indexing errors\n"
     ]
    },
    {
     "data": {
      "image/png": "[encoded data removed]",
      "text/plain": [
       "<Figure size 800x500 with 1 Axes>"
      ]
     },
     "metadata": {},
     "output_type": "display_data"
    }
   ],
   "source": [
    "from transformers import AutoTokenizer\n",
    "import matplotlib.pyplot as plt\n",
    "\n",
    "# Load a tokenizer (e.g., from a model you used)\n",
    "tokenizer = AutoTokenizer.from_pretrained(\n",
    "    \"bert-base-uncased\"\n",
    ")  # or the one you're actually using\n",
    "\n",
    "# Compute token lengths\n",
    "train_df[\"token_length\"] = train_df[\"content\"].apply(\n",
    "    lambda x: len(tokenizer.encode(str(x), truncation=False))\n",
    ")\n",
    "\n",
    "# Plot distribution\n",
    "plt.figure(figsize=(8, 5))\n",
    "train_df[\"token_length\"].hist(bins=30)\n",
    "plt.title(\"Token Length Distribution\")\n",
    "plt.xlabel(\"Number of Tokens\")\n",
    "plt.ylabel(\"Count\")\n",
    "plt.axvline(512, color=\"red\", linestyle=\"--\", label=\"Max Token Length (512)\")\n",
    "plt.legend()\n",
    "plt.show()"
   ]
  },
  {
   "cell_type": "markdown",
   "metadata": {},
   "source": [
    "Q1. Will a model with a maximum sequence of 512 tokens be useful?\n",
    "\n",
    "Yes, but a few caveats. Some essays exceed the 512 token limit. There will be some truncation - long essays - of which there are only a few, will affect model performance as some information is lost. One approach is to split long essays into overlapping chunks and then process each separately - we can then make multiple predictions per essay and then average. It's also useful to bear in mind that BERT tokenization does not correspond to word count. 1 word can be split up into multiple tokens (1.3+). "
   ]
  },
  {
   "cell_type": "markdown",
   "metadata": {},
   "source": [
    "Question 2. Divide the training dataset in 80% used for training and 20% for validation. Train a neural network, that can predict the score of the essays. It needs to be based on BERT-tiny and fine-tuned with the available dataset contained in train.csv. Show that your model accuracy on the validation part of the dataset is 75% or more. Training can take a few minutes, we recommend using a single epoch. \n",
    "\n",
    "Suggested steps:\n",
    "- Create two PyTorch DataLoaders, training and validation from train.csv\n",
    "- Load the base model for training\n",
    "- Train for a single epoch (this computation takes about 15 minutes)\n",
    "- Check that predictions on validation dataset are sensible\n",
    "- Save fine-tuned model including optimizer states.\n",
    "\n",
    "Code for loading the dataset in a DataFrame and the tokenizer and model is given below."
   ]
  },
  {
   "cell_type": "markdown",
   "metadata": {},
   "source": [
    "# Define Dataset classes for training and validation"
   ]
  },
  {
   "cell_type": "code",
   "execution_count": null,
   "metadata": {},
   "outputs": [],
   "source": [
    "import torch\n",
    "from typing import Dict, Any, Tuple\n",
    "from torch import Tensor\n",
    "from torch.utils.data import Dataset, random_split\n",
    "from transformers import BertTokenizer\n",
    "\n",
    "\n",
    "# create a dataset class that inherits from torch.Dataset\n",
    "class EssayDataset(Dataset):\n",
    "    \"\"\"\n",
    "    Dataset class for handing training and test data.\n",
    "    TODO: Generalise to handle validation split as well.\n",
    "\n",
    "\n",
    "    \"\"\"\n",
    "\n",
    "    def __init__(\n",
    "        self,\n",
    "        df: pd.DataFrame,\n",
    "        tokeniser: BertTokenizer,\n",
    "        target_label=None,\n",
    "        max_length: int = 512,\n",
    "    ):\n",
    "        \"\"\"\n",
    "        Args:\n",
    "        df (pd.DataFrame): Dataframe of train or test dataset.\n",
    "        tokeniser (BertTokenizer): Pre-trained tokenizer\n",
    "        target_label (string) : The label corresponding to our scores.\n",
    "        max_length(int, optional):\n",
    "        \"\"\"\n",
    "        self.data = df\n",
    "        self.tokenizer = tokeniser\n",
    "        self.max_length = max_length\n",
    "        self.target_label = target_label\n",
    "\n",
    "    def __len__(self) -> int:\n",
    "        \"\"\"\n",
    "        Returns the number of samples.\n",
    "        To iterate over it it needs to know its length.\n",
    "        Torch automatically shuffles the dataset after we've visited all samples.\n",
    "        Therefore it needs to know its length.\n",
    "        \"\"\"\n",
    "        return len(self.data)\n",
    "\n",
    "    def __getitem__(self, index: int) -> Dict[str, Tensor]:\n",
    "        \"\"\"\n",
    "        Tokenises the essay and returns input or input+label depending on\n",
    "        whether self.target_label is None.\n",
    "\n",
    "        Returns:\n",
    "            data_dict (Dict[str, Tensor]): Dictionary of tokenised essay, attention_mask and score\n",
    "\n",
    "        \"\"\"\n",
    "\n",
    "        # performance implications of this?\n",
    "\n",
    "        essay = str(self.data.iloc[index][\"content\"])  # get essay text\n",
    "        # score = int(self.data.iloc[index][\"score\"]) - 1 # convert to 0-based index\n",
    "\n",
    "        encoding = self.tokenizer(\n",
    "            essay,\n",
    "            truncation=True,\n",
    "            padding=\"max_length\",\n",
    "            max_length=self.max_length,\n",
    "            return_tensors=\"pt\",\n",
    "        )\n",
    "\n",
    "        data_dict = {\n",
    "            \"input_ids\": encoding[\"input_ids\"].squeeze(),\n",
    "            \"attention_mask\": encoding[\"attention_mask\"].squeeze(),\n",
    "        }\n",
    "\n",
    "        # this generalises the EssayDataset class to work with test data as well\n",
    "        # we also need to check that the target_label is indeed \"score\"\n",
    "        # obviously this could be generalised further.\n",
    "        if self.target_label is not None:\n",
    "            # convert to 0-based index\n",
    "            data_dict[\"score\"] = torch.tensor(int(self.data.iloc[index][\"score\"]) - 1)\n",
    "\n",
    "        return data_dict\n",
    "\n",
    "\n",
    "def split_essay_data(full_dataset: Dataset) -> Tuple[Dataset, Dataset]:\n",
    "    \"\"\"\n",
    "    Split essay data for to check performance on held out validation set.\n",
    "    This sits outside the EssayDataset class as it is a utility function.\n",
    "    Separation of concerns. It decoupled from the Dataset class, it allows\n",
    "    us to test other strategies for splitting the data.\n",
    "\n",
    "    This also relies on knowing the length of the dataset.\n",
    "\n",
    "    Args:\n",
    "        full_dataset (Dataset): The full dataset that we intend to split.\n",
    "\n",
    "    Returns:\n",
    "        train_dataset (Dataset):\n",
    "        val_dataset (Dataset):\n",
    "\n",
    "    \"\"\"\n",
    "    train_size = int(0.8 * len(full_dataset))\n",
    "    val_size = len(full_dataset) - train_size\n",
    "\n",
    "    # set manual seed to ensure reproducibility\n",
    "    torch.manual_seed(42)\n",
    "    train_dataset, val_dataset = random_split(full_dataset, [train_size, val_size])\n",
    "    return train_dataset, val_dataset"
   ]
  },
  {
   "cell_type": "markdown",
   "metadata": {},
   "source": [
    "# Test dataset objects"
   ]
  },
  {
   "cell_type": "code",
   "execution_count": null,
   "metadata": {},
   "outputs": [],
   "source": [
    "tokenizer = AutoTokenizer.from_pretrained(\"bert-base-uncased\")\n",
    "train_df = pd.read_csv(\"data/cleaned_dataset.csv\")\n",
    "dataset = EssayDataset(train_df, tokenizer)"
   ]
  },
  {
   "cell_type": "code",
   "execution_count": 124,
   "metadata": {},
   "outputs": [],
   "source": [
    "type(dataset)\n",
    "for i in iter(dataset):\n",
    "    # print(i)\n",
    "    pass"
   ]
  },
  {
   "cell_type": "markdown",
   "metadata": {},
   "source": [
    "dataset isn't an iterable unless you explicitly call iter on it or use a DataLoader. Dataset class needs to implement `__iter__` if so. "
   ]
  },
  {
   "cell_type": "markdown",
   "metadata": {},
   "source": [
    "# Create datasets and train, val data loaders"
   ]
  },
  {
   "cell_type": "code",
   "execution_count": 64,
   "metadata": {},
   "outputs": [
    {
     "name": "stderr",
     "output_type": "stream",
     "text": [
      "Some weights of the model checkpoint at bert-tiny were not used when initializing BertForSequenceClassification: ['cls.predictions.bias', 'cls.predictions.decoder.bias', 'cls.predictions.decoder.weight', 'cls.predictions.transform.LayerNorm.bias', 'cls.predictions.transform.LayerNorm.weight', 'cls.predictions.transform.dense.bias', 'cls.predictions.transform.dense.weight', 'cls.seq_relationship.bias', 'cls.seq_relationship.weight']\n",
      "- This IS expected if you are initializing BertForSequenceClassification from the checkpoint of a model trained on another task or with another architecture (e.g. initializing a BertForSequenceClassification model from a BertForPreTraining model).\n",
      "- This IS NOT expected if you are initializing BertForSequenceClassification from the checkpoint of a model that you expect to be exactly identical (initializing a BertForSequenceClassification model from a BertForSequenceClassification model).\n",
      "Some weights of BertForSequenceClassification were not initialized from the model checkpoint at bert-tiny and are newly initialized: ['classifier.bias', 'classifier.weight']\n",
      "You should probably TRAIN this model on a down-stream task to be able to use it for predictions and inference.\n"
     ]
    }
   ],
   "source": [
    "import pandas as pd\n",
    "from torch.utils.data import DataLoader\n",
    "from transformers import BertTokenizer, BertForSequenceClassification\n",
    "\n",
    "tokeniser = BertTokenizer.from_pretrained(\"bert-tiny\")\n",
    "model = BertForSequenceClassification.from_pretrained(\"bert-tiny\", num_labels=4)\n",
    "\n",
    "train_df = pd.read_csv(\"data/cleaned_dataset.csv\")\n",
    "\n",
    "full_dataset = EssayDataset(train_df, tokeniser, target_label=\"score\")\n",
    "\n",
    "train_dataset, val_dataset = split_essay_data(full_dataset)\n",
    "\n",
    "train_loader = DataLoader(train_dataset, batch_size=16, shuffle=True)\n",
    "#\n",
    "val_loader = DataLoader(val_dataset, batch_size=16, shuffle=False)"
   ]
  },
  {
   "cell_type": "markdown",
   "metadata": {},
   "source": [
    "# Testing datasets and dataloaders"
   ]
  },
  {
   "cell_type": "code",
   "execution_count": 59,
   "metadata": {},
   "outputs": [
    {
     "name": "stdout",
     "output_type": "stream",
     "text": [
      "{'input_ids': tensor([  101,  1045,  2064,  2228,  1997,  2195,  2808,  2008,  1010,  1045,\n",
      "         2052,  2025,  2215,  1037,  2775,  1997,  3067,  2000,  4060,  2039,\n",
      "         1998,  3191,  1012,  1045,  2004,  2574,  2004,  1045,  2464,  2054,\n",
      "         1045,  2001,  2183,  2000,  2022,  3015,  2055,  2023,  2028,  8373,\n",
      "         1999,  2026,  2132,  2066,  7497,  1012,  1996,  2338,  2008,  1030,\n",
      "         9700,  2487, 10549,  2003,  2170,  1005,  1030,  9700,  2475,  1030,\n",
      "         9700,  2509,  1030,  9700,  2549,  1012,  1005,  1996,  2338,  1005,\n",
      "         1030,  9700,  2475,  1030,  9700,  2509,  1030,  9700,  2549,  1005,\n",
      "         2003,  2055,  1037,  2402,  2611,  2008,  3473,  2039,  2302,  1037,\n",
      "         2269,  1012,  2014,  2388,  2196,  2359,  2000,  2831,  2055,  2032,\n",
      "         2138,  1010,  2016,  2354,  2008,  2023,  2126,  2069,  2183,  2000,\n",
      "         2191,  5609,  4788,  1012,  1996,  2402,  2611,  3473,  2039,  2007,\n",
      "         1996,  3959,  1997,  2108,  8600,  1005,  1055,  2210,  2611,  1012,\n",
      "         2008,  1005,  1055,  2035,  2016,  2359,  2041,  1997,  2166,  1012,\n",
      "         2016,  4133,  1998,  2245,  2003,  2008,  2074,  1037,  2210,  2000,\n",
      "         2172,  2000,  3198,  2005,  1012,  2044,  1037,  2261,  2086,  1010,\n",
      "         2018,  2979,  2011,  2016,  2018,  2633,  2288,  1996,  9113,  2000,\n",
      "         2175,  2006,  1037,  5690,  2005,  2269,  1012,  2016,  2253,  2011,\n",
      "         2841,  1010,  2975,  2014,  2388,  2369,  1012,  2014,  2388,  2467,\n",
      "        16486,  1999,  1996,  2132,  2008,  2014,  2269,  2001,  2039,  2000,\n",
      "         2053,  2204,  1012,  2008,  2016,  2052,  2022,  2488,  2125,  2302,\n",
      "         2032,  2045,  1012,  2021,  1010,  2016,  2253,  2006,  1996,  5690,\n",
      "         1997,  2014,  2269,  2011,  4752,  1999,  1996,  2935,  1012,  2044,\n",
      "         3038,  2116, 12583,  2000,  1996,  2935,  1010,  2016,  2633,  2245,\n",
      "         2008,  1012,  2016,  2074,  1030,  3204,  2487,  2354,  2054,  2023,\n",
      "         5690,  2001,  2183,  2000,  2202,  1012,  2061,  2016,  2253,  2000,\n",
      "         2014,  1030,  9700,  2683,  1010,  5327,  2008,  2016,  1030,  3204,\n",
      "         2487,  2074,  2031,  1996,  2019,  9333,  2545,  1012,  2008,  2016,\n",
      "         2734,  2000,  9611,  2014,  2540, 10732,  1998,  3255,  1012,  2008,\n",
      "         2016,  2071,  2074,  3328,  1030,  9700,  2549,  4209,  2008,  4873,\n",
      "         2041,  2045,  1999,  1996,  2088,  2008,  2014,  2269,  2052,  2022,\n",
      "         3403,  2005,  2014,  1012,  2009,  1005,  1055,  2001,  2074,  2077,\n",
      "         1996,  3103,  2001,  2927,  2000,  4133,  1010,  2043,  2016,  4384,\n",
      "         1037,  2210,  2214,  2670,  4330,  1012,  3564,  2041,  2006,  1996,\n",
      "         2392,  7424,  1999,  1037,  4799, 14934,  3242,  1012,  2016,  2253,\n",
      "         2039,  2000,  2014,  1030,  9700,  2683,  1998,  4782,  2014,  2006,\n",
      "         1996,  6130,  1010,  2007,  4000,  3561,  1999,  2014,  2159,  1012,\n",
      "         2014,  1030,  9700,  2683,  2056,  1005,  2085,  6203,  2339,  2442,\n",
      "         2017,  2022,  6933,  1012,  1005,  1030,  9700,  2620,  1010,  2007,\n",
      "         1996, 15116,  1999,  1996,  3759,  2016,  2356,  1005,  2079,  2017,\n",
      "         2113,  2073,  1045,  1030,  3204,  2487,  2424,  2026,  2269,  1029,\n",
      "         1005,  1030,  9700,  2683,  4660,  2007,  2748,   999,  6203,  1010,\n",
      "         1030,  9700,  2475,  1005,  1055, 10201,  2091,  1999,  2010,  2793,\n",
      "         1012,  2008,  1005,  1055,  2043,  2014,  2227,  2211,  2000,  8652,\n",
      "         1012,  2016,  2253,  1999,  1996,  2214,  9151,  2000,  2424,  2014,\n",
      "         2269,  4688,  2006,  1996,  2793,  3015,  2014,  1012,  2016,  2001,\n",
      "         6091,  2021,  2007,  1996,  2393,  1997,  2014,  1030,  9700,  2683,\n",
      "         2016,  4133,  1998,  5720,  2007,  2014,  2269,  1012,  2014,  2269,\n",
      "         2409,  2014,  2008,  2014,  2018,  2626,  2014,  1037,  3661, 10126,\n",
      "         1012,  2008,  1005,  1055,  1030, 16371,  2213,  2487,  4144,  1037,\n",
      "         2095,  1012,  2016,  2409,  2014,  2269,  2008,  1045,  1005,  2310,\n",
      "         2196,   102]), 'attention_mask': tensor([1, 1, 1, 1, 1, 1, 1, 1, 1, 1, 1, 1, 1, 1, 1, 1, 1, 1, 1, 1, 1, 1, 1, 1,\n",
      "        1, 1, 1, 1, 1, 1, 1, 1, 1, 1, 1, 1, 1, 1, 1, 1, 1, 1, 1, 1, 1, 1, 1, 1,\n",
      "        1, 1, 1, 1, 1, 1, 1, 1, 1, 1, 1, 1, 1, 1, 1, 1, 1, 1, 1, 1, 1, 1, 1, 1,\n",
      "        1, 1, 1, 1, 1, 1, 1, 1, 1, 1, 1, 1, 1, 1, 1, 1, 1, 1, 1, 1, 1, 1, 1, 1,\n",
      "        1, 1, 1, 1, 1, 1, 1, 1, 1, 1, 1, 1, 1, 1, 1, 1, 1, 1, 1, 1, 1, 1, 1, 1,\n",
      "        1, 1, 1, 1, 1, 1, 1, 1, 1, 1, 1, 1, 1, 1, 1, 1, 1, 1, 1, 1, 1, 1, 1, 1,\n",
      "        1, 1, 1, 1, 1, 1, 1, 1, 1, 1, 1, 1, 1, 1, 1, 1, 1, 1, 1, 1, 1, 1, 1, 1,\n",
      "        1, 1, 1, 1, 1, 1, 1, 1, 1, 1, 1, 1, 1, 1, 1, 1, 1, 1, 1, 1, 1, 1, 1, 1,\n",
      "        1, 1, 1, 1, 1, 1, 1, 1, 1, 1, 1, 1, 1, 1, 1, 1, 1, 1, 1, 1, 1, 1, 1, 1,\n",
      "        1, 1, 1, 1, 1, 1, 1, 1, 1, 1, 1, 1, 1, 1, 1, 1, 1, 1, 1, 1, 1, 1, 1, 1,\n",
      "        1, 1, 1, 1, 1, 1, 1, 1, 1, 1, 1, 1, 1, 1, 1, 1, 1, 1, 1, 1, 1, 1, 1, 1,\n",
      "        1, 1, 1, 1, 1, 1, 1, 1, 1, 1, 1, 1, 1, 1, 1, 1, 1, 1, 1, 1, 1, 1, 1, 1,\n",
      "        1, 1, 1, 1, 1, 1, 1, 1, 1, 1, 1, 1, 1, 1, 1, 1, 1, 1, 1, 1, 1, 1, 1, 1,\n",
      "        1, 1, 1, 1, 1, 1, 1, 1, 1, 1, 1, 1, 1, 1, 1, 1, 1, 1, 1, 1, 1, 1, 1, 1,\n",
      "        1, 1, 1, 1, 1, 1, 1, 1, 1, 1, 1, 1, 1, 1, 1, 1, 1, 1, 1, 1, 1, 1, 1, 1,\n",
      "        1, 1, 1, 1, 1, 1, 1, 1, 1, 1, 1, 1, 1, 1, 1, 1, 1, 1, 1, 1, 1, 1, 1, 1,\n",
      "        1, 1, 1, 1, 1, 1, 1, 1, 1, 1, 1, 1, 1, 1, 1, 1, 1, 1, 1, 1, 1, 1, 1, 1,\n",
      "        1, 1, 1, 1, 1, 1, 1, 1, 1, 1, 1, 1, 1, 1, 1, 1, 1, 1, 1, 1, 1, 1, 1, 1,\n",
      "        1, 1, 1, 1, 1, 1, 1, 1, 1, 1, 1, 1, 1, 1, 1, 1, 1, 1, 1, 1, 1, 1, 1, 1,\n",
      "        1, 1, 1, 1, 1, 1, 1, 1, 1, 1, 1, 1, 1, 1, 1, 1, 1, 1, 1, 1, 1, 1, 1, 1,\n",
      "        1, 1, 1, 1, 1, 1, 1, 1, 1, 1, 1, 1, 1, 1, 1, 1, 1, 1, 1, 1, 1, 1, 1, 1,\n",
      "        1, 1, 1, 1, 1, 1, 1, 1]), 'score': tensor(3)}\n"
     ]
    }
   ],
   "source": [
    "#  test EssayDataset - TODO: provide a robust set of tests here.\n",
    "\n",
    "# test __getitem__\n",
    "print(train_dataset[0])\n",
    "\n",
    "# train_df.iloc[0] # -> []\n",
    "\n",
    "# print(train_df.iloc[0])\n",
    "# test __len__\n",
    "# print(len(full_dataset))\n",
    "\n",
    "# print(\"train dataset length \", len(train_dataset))\n",
    "# print(\"val dataset length \", len(val_dataset))"
   ]
  },
  {
   "cell_type": "code",
   "execution_count": 9,
   "metadata": {},
   "outputs": [
    {
     "name": "stderr",
     "output_type": "stream",
     "text": [
      "Some weights of the model checkpoint at bert-tiny were not used when initializing BertForSequenceClassification: ['cls.predictions.bias', 'cls.predictions.decoder.bias', 'cls.predictions.decoder.weight', 'cls.predictions.transform.LayerNorm.bias', 'cls.predictions.transform.LayerNorm.weight', 'cls.predictions.transform.dense.bias', 'cls.predictions.transform.dense.weight', 'cls.seq_relationship.bias', 'cls.seq_relationship.weight']\n",
      "- This IS expected if you are initializing BertForSequenceClassification from the checkpoint of a model trained on another task or with another architecture (e.g. initializing a BertForSequenceClassification model from a BertForPreTraining model).\n",
      "- This IS NOT expected if you are initializing BertForSequenceClassification from the checkpoint of a model that you expect to be exactly identical (initializing a BertForSequenceClassification model from a BertForSequenceClassification model).\n",
      "Some weights of BertForSequenceClassification were not initialized from the model checkpoint at bert-tiny and are newly initialized: ['classifier.bias', 'classifier.weight']\n",
      "You should probably TRAIN this model on a down-stream task to be able to use it for predictions and inference.\n"
     ]
    }
   ],
   "source": [
    "model = BertForSequenceClassification.from_pretrained(\n",
    "    \"bert-tiny\", local_files_only=True, num_labels=4\n",
    ")"
   ]
  },
  {
   "cell_type": "code",
   "execution_count": null,
   "metadata": {},
   "outputs": [],
   "source": [
    "from torch import Tensor\n",
    "from torch.nn import CrossEntropyLoss, Module\n",
    "from torch.utils.data import DataLoader\n",
    "from torch.optim import Optimizer, AdamW\n",
    "from numpy import mean, unique\n",
    "\n",
    "\n",
    "def get_accuracy(preds, labels):\n",
    "    \"\"\"\n",
    "    TODO: docstrings\n",
    "    \"\"\"\n",
    "    correct = (preds == labels).sum().item()\n",
    "    total = labels.size(0)\n",
    "    return correct / total\n",
    "\n",
    "\n",
    "def evaluate_model(\n",
    "    model: Module, val_loader: DataLoader, loss_fn: CrossEntropyLoss\n",
    ") -> Dict[str, float]:\n",
    "    \"\"\"\n",
    "    TODO: docstrings\n",
    "    \"\"\"\n",
    "    # Put model in evaluation mode. So we do not drink statistics from validation set. (Take statistics from training\n",
    "    # uses running stats instead of batch stats. Also turns off dropout layers.\n",
    "    model.eval()\n",
    "\n",
    "    # add to metrics dictionary\n",
    "    metrics = {\"loss\": [], \"accuracy\": []}\n",
    "\n",
    "    # no need to store gradients\n",
    "    with torch.no_grad():\n",
    "        for batch in val_loader:\n",
    "            input_ids = batch[\"input_ids\"]\n",
    "\n",
    "            attention_mask = batch[\"attention_mask\"]\n",
    "\n",
    "            labels = batch[\"score\"]\n",
    "\n",
    "            outputs = model(input_ids, attention_mask=attention_mask)\n",
    "            # outputs.logits is the raw output of the model. It has shape (batch_size, num_labels)\n",
    "\n",
    "            loss = loss_fn(outputs.logits, labels)\n",
    "\n",
    "            # accumulate total loss over entire batch\n",
    "            preds = torch.argmax(outputs.logits, dim=1)  # (batch_size,)\n",
    "\n",
    "            # add to metrics dictionary\n",
    "            metrics[\"loss\"].append(loss.item())\n",
    "            metrics[\"accuracy\"].append(get_accuracy(preds, labels))\n",
    "\n",
    "    # dictionary comprehension to get mean of each metric\n",
    "    return {key: mean(val) for key, val in metrics.items()}\n",
    "\n",
    "\n",
    "# could also use BCELoss - convert to one-hot encoding?\n",
    "def train_model(\n",
    "    model: Module,\n",
    "    train_loader: DataLoader,\n",
    "    val_loader: DataLoader,\n",
    "    optimiser: Optimizer,\n",
    "    loss_fn: CrossEntropyLoss,\n",
    "    epochs: int = 1,\n",
    ") -> Module:\n",
    "    \"\"\"\n",
    "    TODO: Improve docstrings. This is just a skeleton.\n",
    "\n",
    "    Train a model on essay text with scores as labels.\n",
    "\n",
    "    Args:\n",
    "        model (Module) :\n",
    "        train_loader (DataLoader) :\n",
    "        val_loader (DataLoader) : (UNUSED) - this would be used here if we trained for multiple epochs.\n",
    "        optimiser (Optimiser) :\n",
    "        loss_fn (CrossEntropyLoss) :\n",
    "        epochs (int) :\n",
    "\n",
    "    Returns:\n",
    "        Trained model\n",
    "\n",
    "    \"\"\"\n",
    "    # Prepare model for training. This turns certain layers on and tells batch\n",
    "    # norm layers to use incoming statistics and let the contribute to their memory.\n",
    "\n",
    "    metrics = {\"loss\": [], \"accuracy\": []}\n",
    "\n",
    "    # for illustration only (we only train on one epoch).\n",
    "    for epoch in range(epochs):\n",
    "        model.train()\n",
    "        for iter, batch in enumerate(train_loader):\n",
    "            # zero the gradients (otherwise gradients accumulate)\n",
    "            optimiser.zero_grad()\n",
    "\n",
    "            input_ids = batch[\"input_ids\"]\n",
    "            # the attention mask tells us which tokens are real words and which are padding.\n",
    "\n",
    "            attention_mask = batch[\"attention_mask\"]\n",
    "            labels = batch[\"score\"]\n",
    "\n",
    "            outputs = model(input_ids, attention_mask=attention_mask)\n",
    "\n",
    "            # compute loss\n",
    "            # outputs.logits is the raw output of the model. It has shape (batch_size, num_labels)\n",
    "            # labels is the true label of the data. It has shape (batch_size)\n",
    "            # internally CE loss does the following:\n",
    "            # loss = -log(softmax(logits)[label])\n",
    "            loss = loss_fn(outputs.logits, labels)\n",
    "\n",
    "            # compute gradients\n",
    "            loss.backward()\n",
    "\n",
    "            # nudge parameters in direction of steepest descent\n",
    "            optimiser.step()\n",
    "\n",
    "            # compute accuracy on batch basis\n",
    "            preds = torch.argmax(outputs.logits, dim=1)\n",
    "\n",
    "            # loss is tensor - get value using item()\n",
    "            metrics[\"loss\"].append(loss.item())\n",
    "            metrics[\"accuracy\"].append(get_accuracy(preds, labels))\n",
    "\n",
    "            # debugging\n",
    "            # print(iter, metrics[\"accuracy\"][-1], loss.item())\n",
    "            # visualise every 10 steps (10 * batch_size) = 160 samples per print.\n",
    "            if iter % 10 == 0:\n",
    "                print(\"step: \", iter, \", batch loss: \", loss.item())\n",
    "\n",
    "        val_metrics = evaluate_model(model, val_loader, loss_fn)\n",
    "        print(\n",
    "            f\"Validation — Loss: {val_metrics['loss']:.4f}, Accuracy: {val_metrics['accuracy']:.4f}\"\n",
    "        )\n",
    "\n",
    "    # just output train averages for now - we'll get validation loss / accuracy next.\n",
    "    print(\"Train averages \", {key: mean(val) for key, val in metrics.items()})\n",
    "\n",
    "    # return fine-tuned model\n",
    "    return model"
   ]
  },
  {
   "cell_type": "markdown",
   "metadata": {},
   "source": [
    "# Define model and call train loop"
   ]
  },
  {
   "cell_type": "code",
   "execution_count": null,
   "metadata": {},
   "outputs": [
    {
     "name": "stderr",
     "output_type": "stream",
     "text": [
      "Some weights of the model checkpoint at bert-tiny were not used when initializing BertForSequenceClassification: ['cls.predictions.bias', 'cls.predictions.decoder.bias', 'cls.predictions.decoder.weight', 'cls.predictions.transform.LayerNorm.bias', 'cls.predictions.transform.LayerNorm.weight', 'cls.predictions.transform.dense.bias', 'cls.predictions.transform.dense.weight', 'cls.seq_relationship.bias', 'cls.seq_relationship.weight']\n",
      "- This IS expected if you are initializing BertForSequenceClassification from the checkpoint of a model trained on another task or with another architecture (e.g. initializing a BertForSequenceClassification model from a BertForPreTraining model).\n",
      "- This IS NOT expected if you are initializing BertForSequenceClassification from the checkpoint of a model that you expect to be exactly identical (initializing a BertForSequenceClassification model from a BertForSequenceClassification model).\n",
      "Some weights of BertForSequenceClassification were not initialized from the model checkpoint at bert-tiny and are newly initialized: ['classifier.bias', 'classifier.weight']\n",
      "You should probably TRAIN this model on a down-stream task to be able to use it for predictions and inference.\n"
     ]
    },
    {
     "name": "stdout",
     "output_type": "stream",
     "text": [
      "step:  0 , batch loss:  1.446410894393921\n",
      "step:  10 , batch loss:  1.2305426597595215\n",
      "step:  20 , batch loss:  1.3522636890411377\n",
      "step:  30 , batch loss:  1.381296157836914\n",
      "step:  40 , batch loss:  1.6971291303634644\n",
      "step:  50 , batch loss:  1.232558012008667\n",
      "step:  60 , batch loss:  1.2458539009094238\n",
      "step:  70 , batch loss:  1.2924011945724487\n",
      "step:  80 , batch loss:  1.3865528106689453\n",
      "step:  0 , batch loss:  1.1215143203735352\n",
      "step:  10 , batch loss:  1.5644701719284058\n",
      "step:  20 , batch loss:  0.9204778671264648\n",
      "step:  30 , batch loss:  0.964401125907898\n",
      "step:  40 , batch loss:  1.0141273736953735\n",
      "step:  50 , batch loss:  0.9656558632850647\n",
      "step:  60 , batch loss:  0.9093438982963562\n",
      "step:  70 , batch loss:  0.9775020480155945\n",
      "step:  80 , batch loss:  0.8405442237854004\n",
      "step:  0 , batch loss:  0.9145064949989319\n",
      "step:  10 , batch loss:  0.8276112079620361\n",
      "step:  20 , batch loss:  0.8152223229408264\n",
      "step:  30 , batch loss:  0.751285195350647\n",
      "step:  40 , batch loss:  0.8148905038833618\n",
      "step:  50 , batch loss:  0.9093606472015381\n",
      "step:  60 , batch loss:  0.8571620583534241\n",
      "step:  70 , batch loss:  0.8538948893547058\n",
      "step:  80 , batch loss:  0.9660341739654541\n",
      "step:  0 , batch loss:  1.0413475036621094\n",
      "step:  10 , batch loss:  1.0369173288345337\n",
      "step:  20 , batch loss:  0.8772249817848206\n",
      "step:  30 , batch loss:  0.7741543650627136\n",
      "step:  40 , batch loss:  0.7116838693618774\n",
      "step:  50 , batch loss:  0.7288600206375122\n",
      "step:  60 , batch loss:  0.7233138084411621\n",
      "step:  70 , batch loss:  1.0803897380828857\n",
      "step:  80 , batch loss:  0.8342917561531067\n",
      "Train averages  {'loss': 1.0366881694211516, 'accuracy': 0.6078609496124031}\n"
     ]
    }
   ],
   "source": [
    "# main loop\n",
    "# we treat this as a very simple classification task - even though we could potentially make use of ordinality in loss function.\n",
    "model = BertForSequenceClassification.from_pretrained(\n",
    "    \"bert-tiny\", local_files_only=True, num_labels=4\n",
    ")\n",
    "optimiser: Optimizer = AdamW(model.parameters(), lr=1e-4)\n",
    "\n",
    "# apply some\n",
    "\n",
    "from torch.nn import CrossEntropyLoss\n",
    "from sklearn.utils.class_weight import compute_class_weight\n",
    "import numpy as np\n",
    "\n",
    "# Get full list of labels from the training dataset\n",
    "# train_labels = train_dataset.data[\"score\"].astype(int) - 1\n",
    "\n",
    "# train_indices = train_dataset.indices\n",
    "# train_labels = full_dataset.data.iloc[train_indices][\"score\"].astype(int) - 1\n",
    "# train_labels = train_labels.astype(int).to_numpy()\n",
    "\n",
    "# class_weights = compute_class_weight(\n",
    "#     class_weight=\"balanced\",\n",
    "#     classes=np.array([0, 1, 2, 3]),\n",
    "#     y=train_labels\n",
    "# )\n",
    "# weights = torch.tensor(class_weights, dtype=torch.float32)\n",
    "\n",
    "# Define loss function with weights\n",
    "# loss_fn = CrossEntropyLoss(weight=weights)\n",
    "loss_fn = CrossEntropyLoss(weight=weights)\n",
    "\n",
    "model = train_model(model, train_loader, val_loader, optimiser, loss_fn, epochs=4)\n",
    "model.save_pretrained(\"bert_tiny_finetuned\")\n",
    "\n",
    "# save the optimiser state as well\n",
    "torch.save(optimiser.state_dict(), \"optimiser-fine.pth\")"
   ]
  },
  {
   "cell_type": "code",
   "execution_count": 105,
   "metadata": {},
   "outputs": [
    {
     "data": {
      "text/plain": [
       "array([2, 2, 2, ..., 1, 1, 2])"
      ]
     },
     "execution_count": 105,
     "metadata": {},
     "output_type": "execute_result"
    }
   ],
   "source": [
    "train_labels\n",
    "train_labels_1 = (train_labels.astype(int) - 1).to_numpy()\n",
    "train_labels_1"
   ]
  },
  {
   "cell_type": "markdown",
   "metadata": {},
   "source": [
    "# Make sure the predictions are sensible "
   ]
  },
  {
   "cell_type": "code",
   "execution_count": 110,
   "metadata": {},
   "outputs": [
    {
     "name": "stdout",
     "output_type": "stream",
     "text": [
      "Predicted:  tensor([2, 2, 3, 1, 2, 3, 3, 2, 3, 3, 1, 3, 2, 3, 2, 2])\n",
      "Actual:  tensor([1, 2, 3, 2, 2, 3, 3, 3, 3, 3, 3, 3, 2, 3, 2, 2])\n"
     ]
    },
    {
     "data": {
      "text/plain": [
       "SequenceClassifierOutput(loss=None, logits=tensor([[-0.3763,  0.2618,  0.3551, -0.2103],\n",
       "        [-0.4387,  0.1222,  0.2076, -0.3291],\n",
       "        [-0.7484, -0.2717,  0.2514,  0.7088],\n",
       "        [-0.2797,  0.4347,  0.2052, -0.6753],\n",
       "        [-0.5294, -0.1453,  0.4989,  0.4440],\n",
       "        [-0.6302, -0.3996,  0.2086,  0.8387],\n",
       "        [-0.5052, -0.3601,  0.2246,  0.8774],\n",
       "        [-0.5664,  0.1573,  0.5737,  0.0832],\n",
       "        [-0.5342, -0.5087,  0.0834,  0.9616],\n",
       "        [-0.6810, -0.3490,  0.3122,  0.7621],\n",
       "        [-0.2903,  0.4263,  0.0511, -0.7513],\n",
       "        [-0.5327, -0.2797, -0.0199,  0.8439],\n",
       "        [-0.4741, -0.0125,  0.4861,  0.2246],\n",
       "        [-0.6026, -0.3114,  0.0908,  0.8364],\n",
       "        [-0.5132,  0.0330,  0.3780,  0.0518],\n",
       "        [-0.5032,  0.0123,  0.5091,  0.1860]], grad_fn=<AddmmBackward0>), hidden_states=None, attentions=None)"
      ]
     },
     "execution_count": 110,
     "metadata": {},
     "output_type": "execute_result"
    }
   ],
   "source": [
    "# get a single item from the validation set and check the model's prediction\n",
    "# we will use this to check the model's performance on a single item.\n",
    "val_iter = iter(val_loader)\n",
    "val_batch = next(val_iter)\n",
    "input_ids = val_batch[\"input_ids\"]\n",
    "attention_mask = val_batch[\"attention_mask\"]\n",
    "labels = val_batch[\"score\"]\n",
    "\n",
    "outputs = model(input_ids, attention_mask=attention_mask)\n",
    "preds = torch.argmax(outputs.logits, dim=1)\n",
    "\n",
    "print(\"Predicted: \", preds)\n",
    "print(\"Actual: \", labels)\n",
    "\n",
    "outputs"
   ]
  },
  {
   "cell_type": "code",
   "execution_count": 111,
   "metadata": {},
   "outputs": [
    {
     "name": "stdout",
     "output_type": "stream",
     "text": [
      "loss:  1.137898626652631  accuracy:  0.5909090909090909\n"
     ]
    }
   ],
   "source": [
    "# now evaluate the model on unseen validation data\n",
    "metrics = evaluate_model(model, val_loader, loss_fn)\n",
    "print(\"loss: \", metrics[\"loss\"], \" accuracy: \", metrics[\"accuracy\"])"
   ]
  },
  {
   "cell_type": "markdown",
   "metadata": {},
   "source": [
    "# Explore evaluation a little more\n",
    "\n",
    "- Per class accuracy\n",
    "- Confusion matrix\n",
    "- Precision, recall, F1 score\n",
    "\n",
    "\n",
    "The performance below is terrible on label = 1."
   ]
  },
  {
   "cell_type": "code",
   "execution_count": 50,
   "metadata": {},
   "outputs": [],
   "source": [
    "all_preds = []\n",
    "all_labels = []\n",
    "\n",
    "with torch.no_grad():\n",
    "    for batch in val_loader:\n",
    "        input_ids = batch[\"input_ids\"]\n",
    "        attention_mask = batch[\"attention_mask\"]\n",
    "        labels = batch[\"score\"]\n",
    "\n",
    "        outputs = model(input_ids, attention_mask=attention_mask)\n",
    "        preds = torch.argmax(outputs.logits, dim=1)\n",
    "\n",
    "        all_preds.append(preds)\n",
    "        all_labels.append(labels)\n",
    "\n",
    "# Concatenate everything\n",
    "all_preds = torch.cat(all_preds)\n",
    "all_labels = torch.cat(all_labels)"
   ]
  },
  {
   "cell_type": "code",
   "execution_count": null,
   "metadata": {},
   "outputs": [
    {
     "name": "stdout",
     "output_type": "stream",
     "text": [
      "tensor(False)\n"
     ]
    }
   ],
   "source": [
    "all_labels\n",
    "\n",
    "# check if all_labels tensor contains a 0 or 4:\n",
    "print(torch.any(all_labels == 4))  # FALSE\n",
    "print(torch.any(all_labels == 0))  # TRUE"
   ]
  },
  {
   "cell_type": "code",
   "execution_count": 52,
   "metadata": {},
   "outputs": [
    {
     "data": {
      "text/plain": [
       "tensor([3, 3, 3, 3, 3, 2, 3, 3, 3, 3, 2, 2, 3, 3, 2, 3, 2, 3, 2, 3, 2, 2, 3, 3,\n",
       "        3, 2, 3, 3, 2, 2, 3, 3, 2, 3, 3, 3, 3, 2, 2, 2, 3, 3, 3, 3, 3, 3, 3, 3,\n",
       "        3, 3, 3, 2, 2, 3, 2, 3, 2, 3, 3, 3, 2, 2, 3, 3, 3, 2, 2, 3, 3, 2, 3, 3,\n",
       "        2, 3, 2, 3, 3, 2, 3, 3, 3, 3, 3, 2, 2, 3, 2, 2, 3, 3, 3, 3, 3, 2, 3, 2,\n",
       "        2, 3, 2, 2, 3, 2, 3, 2, 3, 3, 2, 3, 3, 3, 3, 3, 3, 3, 3, 3, 2, 2, 3, 2,\n",
       "        2, 2, 2, 3, 2, 2, 2, 3, 2, 2, 2, 3, 2, 3, 2, 3, 2, 2, 2, 2, 3, 3, 3, 2,\n",
       "        2, 2, 3, 3, 3, 3, 2, 3, 3, 3, 3, 3, 3, 3, 2, 3, 3, 3, 2, 3, 3, 3, 2, 3,\n",
       "        3, 2, 3, 2, 2, 2, 3, 2, 2, 3, 3, 2, 3, 3, 3, 3, 3, 3, 3, 3, 3, 2, 2, 3,\n",
       "        3, 3, 2, 2, 2, 2, 3, 2, 3, 3, 2, 2, 3, 2, 3, 2, 3, 3, 3, 2, 2, 2, 3, 3,\n",
       "        3, 3, 3, 2, 2, 2, 3, 3, 3, 2, 3, 2, 3, 3, 2, 3, 2, 3, 2, 3, 2, 2, 3, 3,\n",
       "        2, 3, 3, 3, 3, 3, 3, 3, 2, 3, 2, 3, 2, 2, 3, 2, 2, 3, 3, 2, 3, 3, 3, 3,\n",
       "        3, 3, 3, 3, 3, 3, 3, 3, 3, 3, 2, 3, 3, 3, 2, 3, 3, 2, 3, 3, 3, 3, 3, 3,\n",
       "        3, 2, 2, 3, 3, 3, 3, 2, 3, 2, 2, 3, 3, 3, 3, 2, 3, 3, 3, 2, 3, 2, 3, 2,\n",
       "        2, 3, 3, 3, 2, 2, 3, 2, 3, 2, 3, 3, 3, 2, 2, 3, 3, 2, 2, 3, 2, 3, 2, 3,\n",
       "        3, 3, 3, 3, 3, 3, 3, 3])"
      ]
     },
     "execution_count": 52,
     "metadata": {},
     "output_type": "execute_result"
    }
   ],
   "source": [
    "all_preds"
   ]
  },
  {
   "cell_type": "code",
   "execution_count": 51,
   "metadata": {},
   "outputs": [
    {
     "data": {
      "text/plain": [
       "{0: 0.0, 1: 0.0, 2: 0.5416666666666666, 3: 0.8409090909090909}"
      ]
     },
     "execution_count": 51,
     "metadata": {},
     "output_type": "execute_result"
    }
   ],
   "source": [
    "num_classes = 4\n",
    "per_class_acc = {}\n",
    "\n",
    "for cls in range(0, num_classes):\n",
    "    mask = all_labels == cls\n",
    "    correct = (all_preds[mask] == cls).sum().item()\n",
    "    total = mask.sum().item()\n",
    "    per_class_acc[cls] = correct / total if total > 0 else 0.0\n",
    "\n",
    "\n",
    "per_class_acc"
   ]
  },
  {
   "cell_type": "markdown",
   "metadata": {},
   "source": [
    "# Create confusion matrix"
   ]
  },
  {
   "cell_type": "code",
   "execution_count": null,
   "metadata": {},
   "outputs": [],
   "source": [
    "# there is heavy class imbalance with this dataset. Possible things to explore:\n",
    "\n"
   ]
  },
  {
   "cell_type": "code",
   "execution_count": 54,
   "metadata": {},
   "outputs": [
    {
     "data": {
      "image/png": "[encoded data removed]",
      "text/plain": [
       "<Figure size 640x480 with 2 Axes>"
      ]
     },
     "metadata": {},
     "output_type": "display_data"
    }
   ],
   "source": [
    "from sklearn.metrics import confusion_matrix, ConfusionMatrixDisplay\n",
    "import matplotlib.pyplot as plt\n",
    "\n",
    "cm = confusion_matrix(all_labels.numpy(), all_preds.numpy())\n",
    "disp = ConfusionMatrixDisplay(confusion_matrix=cm)\n",
    "disp.plot(cmap=\"Blues\")\n",
    "plt.title(\"Confusion Matrix\")\n",
    "plt.show()"
   ]
  },
  {
   "cell_type": "markdown",
   "metadata": {},
   "source": [
    "I suspect that OrdinalCrossEntropyLoss might be better for this sort of task. We can do:\n",
    "```python\n",
    "from torch_ordinal import OrdinalCrossEntropyLoss\n",
    "loss_fn = OrdinalCrossEntropyLoss(...)\n",
    "```"
   ]
  },
  {
   "cell_type": "markdown",
   "metadata": {},
   "source": [
    "Question 3. Use the model you created to run inference on each example of the test dataset and save all predictions in submissions.csv file.\n",
    "\n",
    "Suggested steps:\n",
    "\n",
    "- Create one PyTorch DataLoader, test from test.csv\n",
    "- Load your fine-tuned model for evaluation\n",
    "- Generate predictions for all datum in test.csv\n",
    "- Save results in submissions.csv in format defined above.\n",
    "\n"
   ]
  },
  {
   "cell_type": "code",
   "execution_count": null,
   "metadata": {},
   "outputs": [],
   "source": [
    "# load model from disk\n",
    "model = BertForSequenceClassification.from_pretrained(\n",
    "    \"bert_tiny_finetuned\", local_files_only=True, num_labels=5\n",
    ")"
   ]
  },
  {
   "cell_type": "code",
   "execution_count": null,
   "metadata": {},
   "outputs": [],
   "source": [
    "def predict(model, test_loader) -> List[int]:\n",
    "    \"\"\"\n",
    "    Run inference on a test dataset using the trained model.\n",
    "\n",
    "    Args:\n",
    "        model (Module). The fine-tuned model for classification.\n",
    "        test_loader (DataLoader): DataLoader containing the test dataset.\n",
    "\n",
    "    Returns:\n",
    "        List[int]: A list of predicted class labels in the range [1,5]\n",
    "    \"\"\"\n",
    "\n",
    "    predictions = []\n",
    "\n",
    "    # do not store gradients during prediction\n",
    "    with torch.no_grad():\n",
    "        for batch in test_loader:\n",
    "            input_ids = batch[\"input_ids\"]\n",
    "            attention_mask = batch[\"attention_mask\"]\n",
    "\n",
    "            outputs = model(input_ids, attention_mask=attention_mask)\n",
    "            # remap predictions to [1..5] (before it was [0..4])\n",
    "            preds = torch.argmax(outputs.logits, dim=1).numpy() + 1\n",
    "            # could potentially do this more efficiently.\n",
    "            for pred in preds.tolist():\n",
    "                predictions.append(pred)\n",
    "\n",
    "    return predictions"
   ]
  },
  {
   "cell_type": "code",
   "execution_count": null,
   "metadata": {},
   "outputs": [],
   "source": [
    "# switch to eval mode\n",
    "model.eval()\n",
    "\n",
    "# initialise the train dataset\n",
    "test_df = pd.read_csv(\"data/test.csv\")\n",
    "test_dataset = EssayDataset(test_df, tokeniser, target_label=None)\n",
    "test_loader = DataLoader(test_dataset, batch_size=16, shuffle=False)\n",
    "# make predictions on test set\n",
    "test_predictions = predict(model, test_loader)"
   ]
  },
  {
   "cell_type": "code",
   "execution_count": null,
   "metadata": {},
   "outputs": [],
   "source": [
    "# now save predictions to submissions.csv in the appropriate format\n",
    "\n",
    "test_df = pd.read_csv(\"data/test.csv\")\n",
    "\n",
    "test_df[\"score\"] = test_predictions\n",
    "test_df[[\"content\", \"score\"]].to_csv(\"data/submissions.csv\", index=False)"
   ]
  },
  {
   "cell_type": "code",
   "execution_count": null,
   "metadata": {},
   "outputs": [],
   "source": [
    "import pandas as pd\n",
    "import numpy as np\n",
    "\n",
    "try:\n",
    "    actual_file = \"./data/sample-submissions.csv\"\n",
    "    pred_file = \"./data/submissions.csv\"\n",
    "\n",
    "    actual_data = pd.read_csv(actual_file)\n",
    "    actuals = np.array(actual_data[\"score\"].tolist()[:10])\n",
    "\n",
    "    pred_data = pd.read_csv(pred_file)\n",
    "    preds = np.array(pred_data[\"score\"].tolist()[:10])\n",
    "\n",
    "    metric = 1 - np.mean(np.abs(actuals - preds) / actuals)\n",
    "\n",
    "    if metric < 0 or metric > 1:\n",
    "        metric = 0\n",
    "\n",
    "    print(f\"Format valid, FS_SCORE:{metric * 100} %\")\n",
    "except Exception as e:\n",
    "    print(\"Format invalid: \", e)"
   ]
  }
 ],
 "metadata": {
  "kernelspec": {
   "display_name": "venv-11",
   "language": "python",
   "name": "python3"
  },
  "language_info": {
   "codemirror_mode": {
    "name": "ipython",
    "version": 3
   },
   "file_extension": ".py",
   "mimetype": "text/x-python",
   "name": "python",
   "nbconvert_exporter": "python",
   "pygments_lexer": "ipython3",
   "version": "3.11.9"
  }
 },
 "nbformat": 4,
 "nbformat_minor": 2
}
